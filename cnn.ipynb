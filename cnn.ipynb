{
 "cells": [
  {
   "cell_type": "code",
   "execution_count": 21,
   "metadata": {},
   "outputs": [],
   "source": [
    "import torchvision\n",
    "from torchvision.io import read_image, ImageReadMode\n",
    "import torch\n",
    "import torch.nn as nn\n",
    "import torch.nn.functional as F\n",
    "import torchvision.transforms as transforms\n",
    "from torch.utils.data import DataLoader\n",
    "from torch.optim import Adam \n",
    "# from torchmetrics import Accuracy\n",
    "from torchmetrics.functional import accuracy"
   ]
  },
  {
   "cell_type": "code",
   "execution_count": 22,
   "metadata": {},
   "outputs": [],
   "source": [
    "# def get_data():\n",
    "#     data_dir = '/your_path/Data/'\n",
    "\n",
    "#     transform = transforms.Compose([\n",
    "#         #transforms.RandomRotation(20),\n",
    "#         transforms.RandomResizedCrop(128),\n",
    "#         #transforms.RandomHorizontalFlip(),\n",
    "#         transforms.ToTensor()])\n",
    "\n",
    "#     train_set = datasets.ImageFolder(data_dir + '/training_set', transform=transform)\n",
    "#     test_set = datasets.ImageFolder(data_dir + '/test_set', transform=transform)\n",
    "\n",
    "#     train = DataLoader(train_set, batch_size=32, shuffle=True)\n",
    "#     test = DataLoader(test_set, batch_size=32, shuffle=True)\n",
    "\n",
    "#     return train, test"
   ]
  },
  {
   "cell_type": "code",
   "execution_count": 23,
   "metadata": {},
   "outputs": [],
   "source": [
    "# dataset = torchvision.datasets.ImageFolder(root='images')"
   ]
  },
  {
   "cell_type": "code",
   "execution_count": 24,
   "metadata": {},
   "outputs": [],
   "source": [
    "# transformations = transforms.Compose([\n",
    "#     transforms.Resize((32,32)),\n",
    "#     transforms.ToTensor(),\n",
    "#     transforms.Normalize((0.5, 0.5, 0.5), (0.5, 0.5, 0.5))\n",
    "# ])"
   ]
  },
  {
   "cell_type": "code",
   "execution_count": 25,
   "metadata": {},
   "outputs": [],
   "source": [
    "class data():\n",
    "    def __init__(self, size, root, batch_size):\n",
    "        self.size_ = size\n",
    "        self.root_ = root\n",
    "        self.batch_size_ = batch_size\n",
    "\n",
    "    def prepare_dataset(self):\n",
    "        transformations = transforms.Compose([\n",
    "            transforms.Resize(self.size_),\n",
    "            transforms.ToTensor(),\n",
    "            transforms.Normalize((0.5, 0.5, 0.5), (0.5, 0.5, 0.5))\n",
    "            ])\n",
    "        \n",
    "        dataset = torchvision.datasets.ImageFolder(root=self.root_, transform=transformations)\n",
    "        train_loader = DataLoader(dataset, batch_size = self.batch_size_, shuffle = True)\n",
    "        print('Train set created !')\n",
    "        return train_loader\n",
    "        "
   ]
  },
  {
   "cell_type": "code",
   "execution_count": 95,
   "metadata": {},
   "outputs": [],
   "source": [
    "class NeuralNetwork(nn.Module):\n",
    "    def __init__(self, learning_rate, loss):\n",
    "        super().__init__()                                               \n",
    "        self.learning_rate_ = learning_rate\n",
    "        self.loss_ = loss \n",
    "\n",
    "        self.cnn_ = nn.Sequential(\n",
    "                        nn.Conv2d(in_channels=3, out_channels=10, kernel_size=5, padding=1),\n",
    "                        nn.Conv2d(10,10,kernel_size=5, padding=1),\n",
    "                        nn.MaxPool2d(2,2),\n",
    "                        nn.Conv2d(in_channels=10, out_channels=10, kernel_size=5, padding=1),\n",
    "                        nn.Conv2d(10,10,kernel_size=5, padding=1),\n",
    "                        nn.MaxPool2d(2,2),\n",
    "                        nn.Flatten(),\n",
    "                        nn.Linear(5*5*10,2)\n",
    "        )\n",
    "        self.optimizer_ = Adam(self.cnn_.parameters(), lr=self.learning_rate_)\n",
    "\n",
    "    def forward(self,x):\n",
    "        return self.cnn_(x)\n",
    "    \n",
    "    def train(self, num_epoch, training_set):\n",
    "        #best_accuracy = 0.0\n",
    "        print(\"Training is beginning...\")\n",
    "\n",
    "        for epoch in range(1,num_epoch+1):\n",
    "            true_class = torch.empty([0])\n",
    "            predicted_class = torch.empty([0])\n",
    "            for data in training_set:\n",
    "                train_loss = 0.\n",
    "                X,y = data \n",
    "                self.optimizer_.zero_grad()   # zero the parameter gradients          \n",
    "                predicted_outputs = self.forward(X)   # predict output from the model \n",
    "                train_loss += self.loss_(predicted_outputs, y)   # calculate loss for the predicted output  \n",
    "                train_loss.backward()   # backpropagate the loss \n",
    "                self.optimizer_.step()\n",
    "                # print(predicted_outputs.data)\n",
    "                # print(torch.max(predicted_outputs.data, 1)[1])\n",
    "                # break\n",
    "                predicted_class = torch.cat((predicted_class,torch.max(predicted_outputs, 1)[1]), dim=0)\n",
    "                true_class = torch.cat((true_class,y), dim=0)\n",
    "            print(f\"Epoch {epoch} : Loss : {train_loss}, Accuracy : {accuracy(predicted_class, true_class, task='binary')}\")\n",
    "\n",
    "        print(\"Training is finished !\")\n"
   ]
  },
  {
   "cell_type": "code",
   "execution_count": 27,
   "metadata": {},
   "outputs": [
    {
     "name": "stdout",
     "output_type": "stream",
     "text": [
      "Train set created !\n"
     ]
    }
   ],
   "source": [
    "data = data(size=32,\n",
    "            root='images',\n",
    "            batch_size=20)\n",
    "\n",
    "train= data.prepare_dataset()"
   ]
  },
  {
   "cell_type": "code",
   "execution_count": 96,
   "metadata": {},
   "outputs": [
    {
     "name": "stdout",
     "output_type": "stream",
     "text": [
      "Training is beginning...\n",
      "Epoch 1 : Loss : 0.555088996887207, Accuracy : 0.6219512224197388\n",
      "Epoch 2 : Loss : 0.2530558109283447, Accuracy : 0.707317054271698\n",
      "Epoch 3 : Loss : 1.228798270225525, Accuracy : 0.707317054271698\n",
      "Epoch 4 : Loss : 0.429826021194458, Accuracy : 0.6829268336296082\n",
      "Epoch 5 : Loss : 0.3912162780761719, Accuracy : 0.6951219439506531\n",
      "Training is finished !\n"
     ]
    }
   ],
   "source": [
    "model = NeuralNetwork(learning_rate=1e-3,\n",
    "                      loss=nn.CrossEntropyLoss())\n",
    "model.train(5,train)"
   ]
  },
  {
   "cell_type": "code",
   "execution_count": 86,
   "metadata": {},
   "outputs": [
    {
     "data": {
      "text/plain": [
       "tensor([0., 0.])"
      ]
     },
     "execution_count": 86,
     "metadata": {},
     "output_type": "execute_result"
    }
   ],
   "source": [
    "torch.cat((torch.empty([0]), torch.max(torch.Tensor(2,2), dim=1)[1]), dim=0)"
   ]
  },
  {
   "cell_type": "code",
   "execution_count": 85,
   "metadata": {},
   "outputs": [
    {
     "data": {
      "text/plain": [
       "tensor([])"
      ]
     },
     "execution_count": 85,
     "metadata": {},
     "output_type": "execute_result"
    }
   ],
   "source": []
  }
 ],
 "metadata": {
  "kernelspec": {
   "display_name": "Python 3",
   "language": "python",
   "name": "python3"
  },
  "language_info": {
   "codemirror_mode": {
    "name": "ipython",
    "version": 3
   },
   "file_extension": ".py",
   "mimetype": "text/x-python",
   "name": "python",
   "nbconvert_exporter": "python",
   "pygments_lexer": "ipython3",
   "version": "3.12.1"
  }
 },
 "nbformat": 4,
 "nbformat_minor": 2
}
