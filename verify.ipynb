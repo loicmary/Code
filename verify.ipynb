{
 "cells": [
  {
   "cell_type": "code",
   "execution_count": 11,
   "metadata": {},
   "outputs": [],
   "source": [
    "import pandas as pd\n",
    "import os\n",
    "import numpy as np\n",
    "import glob\n",
    "from functools import reduce"
   ]
  },
  {
   "cell_type": "code",
   "execution_count": 3,
   "metadata": {},
   "outputs": [],
   "source": [
    "folders = ['France', 'Spain', 'Italy', 'Germany', 'UK', 'Switzerland', 'Belgium']"
   ]
  },
  {
   "cell_type": "code",
   "execution_count": 44,
   "metadata": {},
   "outputs": [],
   "source": [
    "os.chdir('c:\\\\Users\\\\MARY Loïc\\\\Desktop\\\\Inputs')\n",
    "loads = {}\n",
    "powers={}\n",
    "for f in folders:\n",
    "    os.chdir(f)\n",
    "    loads[f] = pd.read_csv(glob.glob('forecast_load*')[0], sep=';', parse_dates=['Unnamed: 0']).rename(columns={\"Unnamed: 0\":'Timestamp', 'Forecasted Load':f'Forecasted_load_{f}'})\n",
    "    powers[f] = pd.read_csv(glob.glob('forecast_production*')[0], sep=';', parse_dates=['Unnamed: 0']).rename(columns={\"Unnamed: 0\":'Timestamp', 'Actual Aggregated':f'Forecasted_production_{f}'})\n",
    "    os.chdir('../')"
   ]
  },
  {
   "cell_type": "code",
   "execution_count": 45,
   "metadata": {},
   "outputs": [
    {
     "data": {
      "text/html": [
       "<div>\n",
       "<style scoped>\n",
       "    .dataframe tbody tr th:only-of-type {\n",
       "        vertical-align: middle;\n",
       "    }\n",
       "\n",
       "    .dataframe tbody tr th {\n",
       "        vertical-align: top;\n",
       "    }\n",
       "\n",
       "    .dataframe thead th {\n",
       "        text-align: right;\n",
       "    }\n",
       "</style>\n",
       "<table border=\"1\" class=\"dataframe\">\n",
       "  <thead>\n",
       "    <tr style=\"text-align: right;\">\n",
       "      <th></th>\n",
       "      <th>Timestamp</th>\n",
       "      <th>Forecasted_production_France</th>\n",
       "    </tr>\n",
       "  </thead>\n",
       "  <tbody>\n",
       "    <tr>\n",
       "      <th>0</th>\n",
       "      <td>2019-01-01 00:00:00+01:00</td>\n",
       "      <td>64931.0</td>\n",
       "    </tr>\n",
       "    <tr>\n",
       "      <th>1</th>\n",
       "      <td>2019-01-01 01:00:00+01:00</td>\n",
       "      <td>63555.0</td>\n",
       "    </tr>\n",
       "    <tr>\n",
       "      <th>2</th>\n",
       "      <td>2019-01-01 02:00:00+01:00</td>\n",
       "      <td>62104.0</td>\n",
       "    </tr>\n",
       "    <tr>\n",
       "      <th>3</th>\n",
       "      <td>2019-01-01 03:00:00+01:00</td>\n",
       "      <td>59954.0</td>\n",
       "    </tr>\n",
       "    <tr>\n",
       "      <th>4</th>\n",
       "      <td>2019-01-01 04:00:00+01:00</td>\n",
       "      <td>56724.0</td>\n",
       "    </tr>\n",
       "    <tr>\n",
       "      <th>...</th>\n",
       "      <td>...</td>\n",
       "      <td>...</td>\n",
       "    </tr>\n",
       "    <tr>\n",
       "      <th>8755</th>\n",
       "      <td>2019-12-31 19:00:00+01:00</td>\n",
       "      <td>76544.0</td>\n",
       "    </tr>\n",
       "    <tr>\n",
       "      <th>8756</th>\n",
       "      <td>2019-12-31 20:00:00+01:00</td>\n",
       "      <td>74936.0</td>\n",
       "    </tr>\n",
       "    <tr>\n",
       "      <th>8757</th>\n",
       "      <td>2019-12-31 21:00:00+01:00</td>\n",
       "      <td>73839.0</td>\n",
       "    </tr>\n",
       "    <tr>\n",
       "      <th>8758</th>\n",
       "      <td>2019-12-31 22:00:00+01:00</td>\n",
       "      <td>74200.0</td>\n",
       "    </tr>\n",
       "    <tr>\n",
       "      <th>8759</th>\n",
       "      <td>2019-12-31 23:00:00+01:00</td>\n",
       "      <td>73877.0</td>\n",
       "    </tr>\n",
       "  </tbody>\n",
       "</table>\n",
       "<p>8760 rows × 2 columns</p>\n",
       "</div>"
      ],
      "text/plain": [
       "                      Timestamp  Forecasted_production_France\n",
       "0     2019-01-01 00:00:00+01:00                       64931.0\n",
       "1     2019-01-01 01:00:00+01:00                       63555.0\n",
       "2     2019-01-01 02:00:00+01:00                       62104.0\n",
       "3     2019-01-01 03:00:00+01:00                       59954.0\n",
       "4     2019-01-01 04:00:00+01:00                       56724.0\n",
       "...                         ...                           ...\n",
       "8755  2019-12-31 19:00:00+01:00                       76544.0\n",
       "8756  2019-12-31 20:00:00+01:00                       74936.0\n",
       "8757  2019-12-31 21:00:00+01:00                       73839.0\n",
       "8758  2019-12-31 22:00:00+01:00                       74200.0\n",
       "8759  2019-12-31 23:00:00+01:00                       73877.0\n",
       "\n",
       "[8760 rows x 2 columns]"
      ]
     },
     "execution_count": 45,
     "metadata": {},
     "output_type": "execute_result"
    }
   ],
   "source": [
    "powers['France']"
   ]
  },
  {
   "cell_type": "code",
   "execution_count": null,
   "metadata": {},
   "outputs": [],
   "source": [
    "[loads['France'], loads['UK'], loads['Italy'], loads['Germany'], loads['Spain'], loads['Switzerland'], loads['Belgium']]\n",
    "[actual_powers['France'], actual_powers['UK'], actual_powers['Italy'], actual_powers['Germany'], actual_powers['Spain'], actual_powers['Switzerland'], actual_powers['Belgium']]"
   ]
  },
  {
   "cell_type": "code",
   "execution_count": 51,
   "metadata": {},
   "outputs": [],
   "source": [
    "load_df = reduce(lambda df1, df2: pd.merge(df1, df2, on='Timestamp'), [loads['France'], loads['UK'], loads['Italy'], loads['Germany'], loads['Spain'], loads['Switzerland'], loads['Belgium']])\n",
    "powers_df = reduce(lambda df1, df2: pd.merge(df1, df2, on='Timestamp'), [powers['France'], powers['UK'], powers['Italy'], powers['Germany'], powers['Spain'], powers['Switzerland'], powers['Belgium']])"
   ]
  },
  {
   "cell_type": "code",
   "execution_count": 61,
   "metadata": {},
   "outputs": [
    {
     "data": {
      "text/html": [
       "<div>\n",
       "<style scoped>\n",
       "    .dataframe tbody tr th:only-of-type {\n",
       "        vertical-align: middle;\n",
       "    }\n",
       "\n",
       "    .dataframe tbody tr th {\n",
       "        vertical-align: top;\n",
       "    }\n",
       "\n",
       "    .dataframe thead th {\n",
       "        text-align: right;\n",
       "    }\n",
       "</style>\n",
       "<table border=\"1\" class=\"dataframe\">\n",
       "  <thead>\n",
       "    <tr style=\"text-align: right;\">\n",
       "      <th></th>\n",
       "      <th>Timestamp</th>\n",
       "      <th>Forecasted_production_France</th>\n",
       "    </tr>\n",
       "  </thead>\n",
       "  <tbody>\n",
       "    <tr>\n",
       "      <th>0</th>\n",
       "      <td>2019-01-01 00:00:00+01:00</td>\n",
       "      <td>64931.0</td>\n",
       "    </tr>\n",
       "    <tr>\n",
       "      <th>1</th>\n",
       "      <td>2019-01-01 01:00:00+01:00</td>\n",
       "      <td>63555.0</td>\n",
       "    </tr>\n",
       "    <tr>\n",
       "      <th>2</th>\n",
       "      <td>2019-01-01 02:00:00+01:00</td>\n",
       "      <td>62104.0</td>\n",
       "    </tr>\n",
       "    <tr>\n",
       "      <th>3</th>\n",
       "      <td>2019-01-01 03:00:00+01:00</td>\n",
       "      <td>59954.0</td>\n",
       "    </tr>\n",
       "    <tr>\n",
       "      <th>4</th>\n",
       "      <td>2019-01-01 04:00:00+01:00</td>\n",
       "      <td>56724.0</td>\n",
       "    </tr>\n",
       "    <tr>\n",
       "      <th>...</th>\n",
       "      <td>...</td>\n",
       "      <td>...</td>\n",
       "    </tr>\n",
       "    <tr>\n",
       "      <th>8755</th>\n",
       "      <td>2019-12-31 19:00:00+01:00</td>\n",
       "      <td>76544.0</td>\n",
       "    </tr>\n",
       "    <tr>\n",
       "      <th>8756</th>\n",
       "      <td>2019-12-31 20:00:00+01:00</td>\n",
       "      <td>74936.0</td>\n",
       "    </tr>\n",
       "    <tr>\n",
       "      <th>8757</th>\n",
       "      <td>2019-12-31 21:00:00+01:00</td>\n",
       "      <td>73839.0</td>\n",
       "    </tr>\n",
       "    <tr>\n",
       "      <th>8758</th>\n",
       "      <td>2019-12-31 22:00:00+01:00</td>\n",
       "      <td>74200.0</td>\n",
       "    </tr>\n",
       "    <tr>\n",
       "      <th>8759</th>\n",
       "      <td>2019-12-31 23:00:00+01:00</td>\n",
       "      <td>73877.0</td>\n",
       "    </tr>\n",
       "  </tbody>\n",
       "</table>\n",
       "<p>8760 rows × 2 columns</p>\n",
       "</div>"
      ],
      "text/plain": [
       "                      Timestamp  Forecasted_production_France\n",
       "0     2019-01-01 00:00:00+01:00                       64931.0\n",
       "1     2019-01-01 01:00:00+01:00                       63555.0\n",
       "2     2019-01-01 02:00:00+01:00                       62104.0\n",
       "3     2019-01-01 03:00:00+01:00                       59954.0\n",
       "4     2019-01-01 04:00:00+01:00                       56724.0\n",
       "...                         ...                           ...\n",
       "8755  2019-12-31 19:00:00+01:00                       76544.0\n",
       "8756  2019-12-31 20:00:00+01:00                       74936.0\n",
       "8757  2019-12-31 21:00:00+01:00                       73839.0\n",
       "8758  2019-12-31 22:00:00+01:00                       74200.0\n",
       "8759  2019-12-31 23:00:00+01:00                       73877.0\n",
       "\n",
       "[8760 rows x 2 columns]"
      ]
     },
     "execution_count": 61,
     "metadata": {},
     "output_type": "execute_result"
    }
   ],
   "source": [
    "powers['France']"
   ]
  },
  {
   "cell_type": "code",
   "execution_count": 62,
   "metadata": {},
   "outputs": [
    {
     "data": {
      "text/html": [
       "<div>\n",
       "<style scoped>\n",
       "    .dataframe tbody tr th:only-of-type {\n",
       "        vertical-align: middle;\n",
       "    }\n",
       "\n",
       "    .dataframe tbody tr th {\n",
       "        vertical-align: top;\n",
       "    }\n",
       "\n",
       "    .dataframe thead th {\n",
       "        text-align: right;\n",
       "    }\n",
       "</style>\n",
       "<table border=\"1\" class=\"dataframe\">\n",
       "  <thead>\n",
       "    <tr style=\"text-align: right;\">\n",
       "      <th></th>\n",
       "      <th>Timestamp</th>\n",
       "      <th>Forecasted_load_France</th>\n",
       "    </tr>\n",
       "  </thead>\n",
       "  <tbody>\n",
       "    <tr>\n",
       "      <th>0</th>\n",
       "      <td>2019-01-01 00:00:00+01:00</td>\n",
       "      <td>63450.0</td>\n",
       "    </tr>\n",
       "    <tr>\n",
       "      <th>1</th>\n",
       "      <td>2019-01-01 01:00:00+01:00</td>\n",
       "      <td>60800.0</td>\n",
       "    </tr>\n",
       "    <tr>\n",
       "      <th>2</th>\n",
       "      <td>2019-01-01 02:00:00+01:00</td>\n",
       "      <td>59950.0</td>\n",
       "    </tr>\n",
       "    <tr>\n",
       "      <th>3</th>\n",
       "      <td>2019-01-01 03:00:00+01:00</td>\n",
       "      <td>56400.0</td>\n",
       "    </tr>\n",
       "    <tr>\n",
       "      <th>4</th>\n",
       "      <td>2019-01-01 04:00:00+01:00</td>\n",
       "      <td>53550.0</td>\n",
       "    </tr>\n",
       "    <tr>\n",
       "      <th>...</th>\n",
       "      <td>...</td>\n",
       "      <td>...</td>\n",
       "    </tr>\n",
       "    <tr>\n",
       "      <th>8755</th>\n",
       "      <td>2019-12-31 19:00:00+01:00</td>\n",
       "      <td>70300.0</td>\n",
       "    </tr>\n",
       "    <tr>\n",
       "      <th>8756</th>\n",
       "      <td>2019-12-31 20:00:00+01:00</td>\n",
       "      <td>66950.0</td>\n",
       "    </tr>\n",
       "    <tr>\n",
       "      <th>8757</th>\n",
       "      <td>2019-12-31 21:00:00+01:00</td>\n",
       "      <td>64150.0</td>\n",
       "    </tr>\n",
       "    <tr>\n",
       "      <th>8758</th>\n",
       "      <td>2019-12-31 22:00:00+01:00</td>\n",
       "      <td>64100.0</td>\n",
       "    </tr>\n",
       "    <tr>\n",
       "      <th>8759</th>\n",
       "      <td>2019-12-31 23:00:00+01:00</td>\n",
       "      <td>67500.0</td>\n",
       "    </tr>\n",
       "  </tbody>\n",
       "</table>\n",
       "<p>8760 rows × 2 columns</p>\n",
       "</div>"
      ],
      "text/plain": [
       "                      Timestamp  Forecasted_load_France\n",
       "0     2019-01-01 00:00:00+01:00                 63450.0\n",
       "1     2019-01-01 01:00:00+01:00                 60800.0\n",
       "2     2019-01-01 02:00:00+01:00                 59950.0\n",
       "3     2019-01-01 03:00:00+01:00                 56400.0\n",
       "4     2019-01-01 04:00:00+01:00                 53550.0\n",
       "...                         ...                     ...\n",
       "8755  2019-12-31 19:00:00+01:00                 70300.0\n",
       "8756  2019-12-31 20:00:00+01:00                 66950.0\n",
       "8757  2019-12-31 21:00:00+01:00                 64150.0\n",
       "8758  2019-12-31 22:00:00+01:00                 64100.0\n",
       "8759  2019-12-31 23:00:00+01:00                 67500.0\n",
       "\n",
       "[8760 rows x 2 columns]"
      ]
     },
     "execution_count": 62,
     "metadata": {},
     "output_type": "execute_result"
    }
   ],
   "source": [
    "loads['France']"
   ]
  },
  {
   "cell_type": "code",
   "execution_count": 68,
   "metadata": {},
   "outputs": [
    {
     "name": "stdout",
     "output_type": "stream",
     "text": [
      "8657.0\n",
      "8160.0\n",
      "19966.0\n",
      "15252.0\n",
      "36905.5\n",
      "5698.0\n",
      "4515.0\n"
     ]
    }
   ],
   "source": [
    "for country in folders:\n",
    "    df = pd.merge(loads[country] ,powers[country], on='Timestamp')\n",
    "    print((df[f'Forecasted_load_{country}'] -df[f'Forecasted_production_{country}']).max())\n",
    "    "
   ]
  },
  {
   "cell_type": "code",
   "execution_count": 53,
   "metadata": {},
   "outputs": [
    {
     "data": {
      "text/plain": [
       "Timestamp\n",
       "2019-01-02 00:00:00+01:00    201020.0\n",
       "2019-01-02 01:00:00+01:00    196258.0\n",
       "2019-01-02 02:00:00+01:00    194168.0\n",
       "2019-01-02 03:00:00+01:00    192024.0\n",
       "2019-01-02 04:00:00+01:00    192893.0\n",
       "                               ...   \n",
       "2019-12-31 19:00:00+01:00    240665.0\n",
       "2019-12-31 20:00:00+01:00    229740.0\n",
       "2019-12-31 21:00:00+01:00    218033.0\n",
       "2019-12-31 22:00:00+01:00    212933.0\n",
       "2019-12-31 23:00:00+01:00    207807.0\n",
       "Length: 8736, dtype: float64"
      ]
     },
     "execution_count": 53,
     "metadata": {},
     "output_type": "execute_result"
    }
   ],
   "source": [
    "powers_df.set_index('Timestamp').sum(axis=1)"
   ]
  },
  {
   "cell_type": "code",
   "execution_count": 54,
   "metadata": {},
   "outputs": [
    {
     "data": {
      "text/plain": [
       "Timestamp\n",
       "2019-01-01 00:00:00+01:00    199590.0\n",
       "2019-01-01 01:00:00+01:00    192726.0\n",
       "2019-01-01 02:00:00+01:00    186785.0\n",
       "2019-01-01 03:00:00+01:00    177945.0\n",
       "2019-01-01 04:00:00+01:00    171597.0\n",
       "                               ...   \n",
       "2019-12-31 19:00:00+01:00    248396.0\n",
       "2019-12-31 20:00:00+01:00    237133.0\n",
       "2019-12-31 21:00:00+01:00    223189.0\n",
       "2019-12-31 22:00:00+01:00    216504.0\n",
       "2019-12-31 23:00:00+01:00    213180.0\n",
       "Length: 8760, dtype: float64"
      ]
     },
     "execution_count": 54,
     "metadata": {},
     "output_type": "execute_result"
    }
   ],
   "source": [
    "load_df.set_index('Timestamp').sum(axis=1)"
   ]
  },
  {
   "cell_type": "code",
   "execution_count": 55,
   "metadata": {},
   "outputs": [],
   "source": [
    "df = pd.DataFrame(data={'loads':load_df.set_index('Timestamp').sum(axis=1),\n",
    "                        'powers':powers_df.set_index('Timestamp').sum(axis=1)})"
   ]
  },
  {
   "cell_type": "code",
   "execution_count": 58,
   "metadata": {},
   "outputs": [
    {
     "data": {
      "text/plain": [
       "Timestamp\n",
       "2019-01-01 00:00:00+01:00       NaN\n",
       "2019-01-01 01:00:00+01:00       NaN\n",
       "2019-01-01 02:00:00+01:00       NaN\n",
       "2019-01-01 03:00:00+01:00       NaN\n",
       "2019-01-01 04:00:00+01:00       NaN\n",
       "                              ...  \n",
       "2019-12-31 19:00:00+01:00    7731.0\n",
       "2019-12-31 20:00:00+01:00    7393.0\n",
       "2019-12-31 21:00:00+01:00    5156.0\n",
       "2019-12-31 22:00:00+01:00    3571.0\n",
       "2019-12-31 23:00:00+01:00    5373.0\n",
       "Length: 8760, dtype: float64"
      ]
     },
     "execution_count": 58,
     "metadata": {},
     "output_type": "execute_result"
    }
   ],
   "source": [
    "df['loads']-df['powers']"
   ]
  },
  {
   "cell_type": "code",
   "execution_count": 43,
   "metadata": {},
   "outputs": [
    {
     "data": {
      "text/html": [
       "<div>\n",
       "<style scoped>\n",
       "    .dataframe tbody tr th:only-of-type {\n",
       "        vertical-align: middle;\n",
       "    }\n",
       "\n",
       "    .dataframe tbody tr th {\n",
       "        vertical-align: top;\n",
       "    }\n",
       "\n",
       "    .dataframe thead th {\n",
       "        text-align: right;\n",
       "    }\n",
       "</style>\n",
       "<table border=\"1\" class=\"dataframe\">\n",
       "  <thead>\n",
       "    <tr style=\"text-align: right;\">\n",
       "      <th></th>\n",
       "      <th>Timestamp</th>\n",
       "      <th>Forecasted_load_UK</th>\n",
       "    </tr>\n",
       "  </thead>\n",
       "  <tbody>\n",
       "    <tr>\n",
       "      <th>0</th>\n",
       "      <td>2018-12-31 23:00:00+00:00</td>\n",
       "      <td>27317.0</td>\n",
       "    </tr>\n",
       "    <tr>\n",
       "      <th>1</th>\n",
       "      <td>2019-01-01 00:00:00+00:00</td>\n",
       "      <td>27975.0</td>\n",
       "    </tr>\n",
       "    <tr>\n",
       "      <th>2</th>\n",
       "      <td>2019-01-01 01:00:00+00:00</td>\n",
       "      <td>27455.0</td>\n",
       "    </tr>\n",
       "    <tr>\n",
       "      <th>3</th>\n",
       "      <td>2019-01-01 02:00:00+00:00</td>\n",
       "      <td>25365.0</td>\n",
       "    </tr>\n",
       "    <tr>\n",
       "      <th>4</th>\n",
       "      <td>2019-01-01 03:00:00+00:00</td>\n",
       "      <td>23756.0</td>\n",
       "    </tr>\n",
       "    <tr>\n",
       "      <th>...</th>\n",
       "      <td>...</td>\n",
       "      <td>...</td>\n",
       "    </tr>\n",
       "    <tr>\n",
       "      <th>8756</th>\n",
       "      <td>2019-12-31 19:00:00+00:00</td>\n",
       "      <td>36708.0</td>\n",
       "    </tr>\n",
       "    <tr>\n",
       "      <th>8757</th>\n",
       "      <td>2019-12-31 20:00:00+00:00</td>\n",
       "      <td>34015.0</td>\n",
       "    </tr>\n",
       "    <tr>\n",
       "      <th>8758</th>\n",
       "      <td>2019-12-31 21:00:00+00:00</td>\n",
       "      <td>32183.0</td>\n",
       "    </tr>\n",
       "    <tr>\n",
       "      <th>8759</th>\n",
       "      <td>2019-12-31 22:00:00+00:00</td>\n",
       "      <td>30365.0</td>\n",
       "    </tr>\n",
       "    <tr>\n",
       "      <th>8760</th>\n",
       "      <td>2019-12-31 23:00:00+00:00</td>\n",
       "      <td>28407.0</td>\n",
       "    </tr>\n",
       "  </tbody>\n",
       "</table>\n",
       "<p>8761 rows × 2 columns</p>\n",
       "</div>"
      ],
      "text/plain": [
       "                      Timestamp  Forecasted_load_UK\n",
       "0     2018-12-31 23:00:00+00:00             27317.0\n",
       "1     2019-01-01 00:00:00+00:00             27975.0\n",
       "2     2019-01-01 01:00:00+00:00             27455.0\n",
       "3     2019-01-01 02:00:00+00:00             25365.0\n",
       "4     2019-01-01 03:00:00+00:00             23756.0\n",
       "...                         ...                 ...\n",
       "8756  2019-12-31 19:00:00+00:00             36708.0\n",
       "8757  2019-12-31 20:00:00+00:00             34015.0\n",
       "8758  2019-12-31 21:00:00+00:00             32183.0\n",
       "8759  2019-12-31 22:00:00+00:00             30365.0\n",
       "8760  2019-12-31 23:00:00+00:00             28407.0\n",
       "\n",
       "[8761 rows x 2 columns]"
      ]
     },
     "execution_count": 43,
     "metadata": {},
     "output_type": "execute_result"
    }
   ],
   "source": [
    "loads['UK']"
   ]
  }
 ],
 "metadata": {
  "kernelspec": {
   "display_name": "Python 3",
   "language": "python",
   "name": "python3"
  },
  "language_info": {
   "codemirror_mode": {
    "name": "ipython",
    "version": 3
   },
   "file_extension": ".py",
   "mimetype": "text/x-python",
   "name": "python",
   "nbconvert_exporter": "python",
   "pygments_lexer": "ipython3",
   "version": "3.11.7"
  }
 },
 "nbformat": 4,
 "nbformat_minor": 2
}
