{
 "cells": [
  {
   "cell_type": "code",
   "execution_count": 1,
   "metadata": {},
   "outputs": [],
   "source": [
    "import pandas as pd\n",
    "from entsoe import EntsoePandasClient\n",
    "import os\n",
    "from datetime import datetime\n",
    "from requests_html import HTMLSession\n",
    "import warnings"
   ]
  },
  {
   "cell_type": "code",
   "execution_count": 2,
   "metadata": {},
   "outputs": [],
   "source": [
    "warnings.filterwarnings('ignore')\n",
    "\n",
    "session = HTMLSession(verify=False)\n",
    "client=EntsoePandasClient(api_key='70fec3b8-9274-4fa2-b777-93d8a0390cdb')\n",
    "\n",
    "start = pd.Timestamp('20190101', tz='Europe/Paris')\n",
    "end = pd.Timestamp('20200101', tz='Europe/Paris')\n",
    "country_code = 'ES'"
   ]
  },
  {
   "cell_type": "code",
   "execution_count": 18,
   "metadata": {},
   "outputs": [],
   "source": [
    "df_forecast_production = client.query_generation_forecast(country_code='ES', start=start, end=end)"
   ]
  },
  {
   "cell_type": "code",
   "execution_count": 19,
   "metadata": {},
   "outputs": [
    {
     "data": {
      "text/html": [
       "<div>\n",
       "<style scoped>\n",
       "    .dataframe tbody tr th:only-of-type {\n",
       "        vertical-align: middle;\n",
       "    }\n",
       "\n",
       "    .dataframe tbody tr th {\n",
       "        vertical-align: top;\n",
       "    }\n",
       "\n",
       "    .dataframe thead th {\n",
       "        text-align: right;\n",
       "    }\n",
       "</style>\n",
       "<table border=\"1\" class=\"dataframe\">\n",
       "  <thead>\n",
       "    <tr style=\"text-align: right;\">\n",
       "      <th></th>\n",
       "      <th>Actual Aggregated</th>\n",
       "      <th>Actual Consumption</th>\n",
       "    </tr>\n",
       "  </thead>\n",
       "  <tbody>\n",
       "    <tr>\n",
       "      <th>2019-01-01 00:00:00+01:00</th>\n",
       "      <td>20136.0</td>\n",
       "      <td>53.0</td>\n",
       "    </tr>\n",
       "    <tr>\n",
       "      <th>2019-01-01 01:00:00+01:00</th>\n",
       "      <td>19558.0</td>\n",
       "      <td>106.0</td>\n",
       "    </tr>\n",
       "    <tr>\n",
       "      <th>2019-01-01 02:00:00+01:00</th>\n",
       "      <td>18586.0</td>\n",
       "      <td>139.0</td>\n",
       "    </tr>\n",
       "    <tr>\n",
       "      <th>2019-01-01 03:00:00+01:00</th>\n",
       "      <td>17664.0</td>\n",
       "      <td>206.0</td>\n",
       "    </tr>\n",
       "    <tr>\n",
       "      <th>2019-01-01 04:00:00+01:00</th>\n",
       "      <td>17405.0</td>\n",
       "      <td>262.0</td>\n",
       "    </tr>\n",
       "    <tr>\n",
       "      <th>...</th>\n",
       "      <td>...</td>\n",
       "      <td>...</td>\n",
       "    </tr>\n",
       "    <tr>\n",
       "      <th>2019-12-31 19:00:00+01:00</th>\n",
       "      <td>25007.0</td>\n",
       "      <td>0.0</td>\n",
       "    </tr>\n",
       "    <tr>\n",
       "      <th>2019-12-31 20:00:00+01:00</th>\n",
       "      <td>23862.0</td>\n",
       "      <td>0.0</td>\n",
       "    </tr>\n",
       "    <tr>\n",
       "      <th>2019-12-31 21:00:00+01:00</th>\n",
       "      <td>22719.0</td>\n",
       "      <td>0.0</td>\n",
       "    </tr>\n",
       "    <tr>\n",
       "      <th>2019-12-31 22:00:00+01:00</th>\n",
       "      <td>22227.0</td>\n",
       "      <td>0.0</td>\n",
       "    </tr>\n",
       "    <tr>\n",
       "      <th>2019-12-31 23:00:00+01:00</th>\n",
       "      <td>21278.0</td>\n",
       "      <td>0.0</td>\n",
       "    </tr>\n",
       "  </tbody>\n",
       "</table>\n",
       "<p>8760 rows × 2 columns</p>\n",
       "</div>"
      ],
      "text/plain": [
       "                           Actual Aggregated  Actual Consumption\n",
       "2019-01-01 00:00:00+01:00            20136.0                53.0\n",
       "2019-01-01 01:00:00+01:00            19558.0               106.0\n",
       "2019-01-01 02:00:00+01:00            18586.0               139.0\n",
       "2019-01-01 03:00:00+01:00            17664.0               206.0\n",
       "2019-01-01 04:00:00+01:00            17405.0               262.0\n",
       "...                                      ...                 ...\n",
       "2019-12-31 19:00:00+01:00            25007.0                 0.0\n",
       "2019-12-31 20:00:00+01:00            23862.0                 0.0\n",
       "2019-12-31 21:00:00+01:00            22719.0                 0.0\n",
       "2019-12-31 22:00:00+01:00            22227.0                 0.0\n",
       "2019-12-31 23:00:00+01:00            21278.0                 0.0\n",
       "\n",
       "[8760 rows x 2 columns]"
      ]
     },
     "execution_count": 19,
     "metadata": {},
     "output_type": "execute_result"
    }
   ],
   "source": [
    "df_forecast_production"
   ]
  }
 ],
 "metadata": {
  "kernelspec": {
   "display_name": "Python 3",
   "language": "python",
   "name": "python3"
  },
  "language_info": {
   "codemirror_mode": {
    "name": "ipython",
    "version": 3
   },
   "file_extension": ".py",
   "mimetype": "text/x-python",
   "name": "python",
   "nbconvert_exporter": "python",
   "pygments_lexer": "ipython3",
   "version": "3.11.7"
  }
 },
 "nbformat": 4,
 "nbformat_minor": 2
}
