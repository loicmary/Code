{
 "cells": [
  {
   "cell_type": "code",
   "execution_count": 1,
   "metadata": {},
   "outputs": [],
   "source": [
    "import pypsa\n",
    "import pandas as pd\n",
    "import numpy as np"
   ]
  },
  {
   "cell_type": "code",
   "execution_count": null,
   "metadata": {},
   "outputs": [],
   "source": [
    "pd.Timestamp('20240101')"
   ]
  },
  {
   "cell_type": "code",
   "execution_count": 2,
   "metadata": {},
   "outputs": [],
   "source": [
    "start = pd.Timestamp('20240101 00:00:00')\n",
    "end = pd.Timestamp('20240101 02:00:00')\n",
    "snapshots = pd.date_range(start=start, end=end, freq='h', inclusive='left')"
   ]
  },
  {
   "cell_type": "code",
   "execution_count": null,
   "metadata": {},
   "outputs": [],
   "source": [
    "fuel_cost = dict(\n",
    "    coal=8,\n",
    "    gas=100,\n",
    "    oil=48,\n",
    ")\n",
    "efficiency = dict(\n",
    "    coal=0.33,\n",
    "    gas=0.58,\n",
    "    oil=0.35,\n",
    ")\n",
    "power_plants = {\n",
    "    \"SA\": {\"coal\": 35000, \"wind\": 3000, \"gas\": 8000, \"oil\": 2000},\n",
    "    \"MZ\": {\"hydro\": 1200},\n",
    "}\n",
    "loads = {\n",
    "    \"SA\": 42000,\n",
    "    \"MZ\": 650,\n",
    "}"
   ]
  },
  {
   "cell_type": "code",
   "execution_count": 11,
   "metadata": {},
   "outputs": [],
   "source": [
    "n = pypsa.Network()\n",
    "n.set_snapshots(snapshots=snapshots)\n",
    "buses = ['France']"
   ]
  },
  {
   "cell_type": "code",
   "execution_count": 12,
   "metadata": {},
   "outputs": [],
   "source": [
    "buses_df = pd.DataFrame({\"v_nom\" : 380, \"carrier\" : 'AC', 'x':[25], 'y':[-30.5]},\n",
    "                    index=buses)"
   ]
  },
  {
   "cell_type": "code",
   "execution_count": 13,
   "metadata": {},
   "outputs": [],
   "source": [
    "n.import_components_from_dataframe(\n",
    "    buses_df,\n",
    "    cls_name=\"Bus\")"
   ]
  },
  {
   "cell_type": "code",
   "execution_count": 14,
   "metadata": {},
   "outputs": [],
   "source": [
    "load_df = pd.DataFrame(\n",
    "       data = {'France':[500,800]},\n",
    "       index=n.snapshots\n",
    "       )"
   ]
  },
  {
   "cell_type": "code",
   "execution_count": null,
   "metadata": {},
   "outputs": [],
   "source": [
    "load_df"
   ]
  },
  {
   "cell_type": "code",
   "execution_count": 15,
   "metadata": {},
   "outputs": [],
   "source": [
    "for buse in buses:\n",
    "    n.add(class_name='Load',\n",
    "          name=buse+\" load\",\n",
    "          bus=buse,\n",
    "          carrier='electricity',\n",
    "          p_set=load_df[buse])\n",
    "# n.madd(\n",
    "#        class_name=\"Load\",\n",
    "#        names=n.buses.index + \" load\",\n",
    "#        bus=buses,\n",
    "#        carrier='electricity',\n",
    "#        p_set=load_df)"
   ]
  },
  {
   "cell_type": "code",
   "execution_count": null,
   "metadata": {},
   "outputs": [],
   "source": [
    "n.loads"
   ]
  },
  {
   "cell_type": "code",
   "execution_count": 16,
   "metadata": {},
   "outputs": [
    {
     "data": {
      "text/plain": [
       "Index(['France wind'], dtype='object')"
      ]
     },
     "execution_count": 16,
     "metadata": {},
     "output_type": "execute_result"
    }
   ],
   "source": [
    "p_max_pu_wind = pd.DataFrame(\n",
    "    data={'France':[0.5,0.5]},\n",
    "    index=n.snapshots\n",
    ")\n",
    "\n",
    "marginal_cost_wind = pd.DataFrame(\n",
    "    data={'France':[100,50]},\n",
    "    index=n.snapshots\n",
    ")\n",
    "#use a suffix to avoid boilerplate to rename everything\n",
    "n.madd(\"Generator\",\n",
    "       buses,\n",
    "       suffix=' wind',\n",
    "       bus=buses,\n",
    "       p_nom_extendable=False,\n",
    "       marginal_cost=marginal_cost_wind,\n",
    "       p_nom=[800],\n",
    "       p_max_pu=p_max_pu_wind)"
   ]
  },
  {
   "cell_type": "code",
   "execution_count": 17,
   "metadata": {},
   "outputs": [
    {
     "data": {
      "text/plain": [
       "Index(['France solar'], dtype='object')"
      ]
     },
     "execution_count": 17,
     "metadata": {},
     "output_type": "execute_result"
    }
   ],
   "source": [
    "p_max_pu_solar = pd.DataFrame(\n",
    "    data={'France':[0.5,0.5]},\n",
    "    index=n.snapshots\n",
    ")\n",
    "\n",
    "marginal_cost_solar = pd.DataFrame(\n",
    "    data={'France':[0.1,800]},\n",
    "    index=n.snapshots\n",
    ")\n",
    "\n",
    "n.madd(\"Generator\",\n",
    "       buses,\n",
    "       suffix=' solar',\n",
    "       bus=buses,\n",
    "       p_nom_extendable=False,\n",
    "       marginal_cost=marginal_cost_solar,\n",
    "       p_nom=[900],\n",
    "       p_max_pu=p_max_pu_solar)"
   ]
  },
  {
   "cell_type": "code",
   "execution_count": null,
   "metadata": {},
   "outputs": [],
   "source": [
    "# n.add(name='UK2FR',\n",
    "#       class_name='Link',\n",
    "#       bus0='UK',\n",
    "#       bus1='France'\n",
    "#       )"
   ]
  },
  {
   "cell_type": "code",
   "execution_count": 18,
   "metadata": {},
   "outputs": [
    {
     "name": "stderr",
     "output_type": "stream",
     "text": [
      "INFO:linopy.model: Solve problem using Highs solver\n",
      "INFO:linopy.io: Writing time: 0.02s\n",
      "INFO:linopy.solvers:Log file at C:\\Users\\MARY Loïc\\AppData\\Local\\Temp\\highs.log.\n",
      "INFO:linopy.constants: Optimization successful: \n",
      "Status: ok\n",
      "Termination condition: optimal\n",
      "Solution: 4 primals, 10 duals\n",
      "Objective: 3.45e+05\n",
      "Solver model: available\n",
      "Solver message: optimal\n",
      "\n",
      "INFO:pypsa.optimization.optimize:The shadow-prices of the constraints Generator-fix-p-lower, Generator-fix-p-upper were not assigned to the network.\n"
     ]
    },
    {
     "data": {
      "text/plain": [
       "('ok', 'optimal')"
      ]
     },
     "execution_count": 18,
     "metadata": {},
     "output_type": "execute_result"
    }
   ],
   "source": [
    "n.optimize(solver_name=\"highs\")"
   ]
  },
  {
   "cell_type": "code",
   "execution_count": 19,
   "metadata": {},
   "outputs": [
    {
     "data": {
      "text/html": [
       "<div>\n",
       "<style scoped>\n",
       "    .dataframe tbody tr th:only-of-type {\n",
       "        vertical-align: middle;\n",
       "    }\n",
       "\n",
       "    .dataframe tbody tr th {\n",
       "        vertical-align: top;\n",
       "    }\n",
       "\n",
       "    .dataframe thead th {\n",
       "        text-align: right;\n",
       "    }\n",
       "</style>\n",
       "<table border=\"1\" class=\"dataframe\">\n",
       "  <thead>\n",
       "    <tr style=\"text-align: right;\">\n",
       "      <th>Generator</th>\n",
       "      <th>France wind</th>\n",
       "      <th>France solar</th>\n",
       "    </tr>\n",
       "    <tr>\n",
       "      <th>snapshot</th>\n",
       "      <th></th>\n",
       "      <th></th>\n",
       "    </tr>\n",
       "  </thead>\n",
       "  <tbody>\n",
       "    <tr>\n",
       "      <th>2024-01-01 00:00:00</th>\n",
       "      <td>50.0</td>\n",
       "      <td>450.0</td>\n",
       "    </tr>\n",
       "    <tr>\n",
       "      <th>2024-01-01 01:00:00</th>\n",
       "      <td>400.0</td>\n",
       "      <td>400.0</td>\n",
       "    </tr>\n",
       "  </tbody>\n",
       "</table>\n",
       "</div>"
      ],
      "text/plain": [
       "Generator            France wind  France solar\n",
       "snapshot                                      \n",
       "2024-01-01 00:00:00         50.0         450.0\n",
       "2024-01-01 01:00:00        400.0         400.0"
      ]
     },
     "execution_count": 19,
     "metadata": {},
     "output_type": "execute_result"
    }
   ],
   "source": [
    "n.generators_t.p"
   ]
  },
  {
   "cell_type": "code",
   "execution_count": 20,
   "metadata": {},
   "outputs": [
    {
     "data": {
      "text/html": [
       "<div>\n",
       "<style scoped>\n",
       "    .dataframe tbody tr th:only-of-type {\n",
       "        vertical-align: middle;\n",
       "    }\n",
       "\n",
       "    .dataframe tbody tr th {\n",
       "        vertical-align: top;\n",
       "    }\n",
       "\n",
       "    .dataframe thead th {\n",
       "        text-align: right;\n",
       "    }\n",
       "</style>\n",
       "<table border=\"1\" class=\"dataframe\">\n",
       "  <thead>\n",
       "    <tr style=\"text-align: right;\">\n",
       "      <th>Bus</th>\n",
       "      <th>France</th>\n",
       "    </tr>\n",
       "    <tr>\n",
       "      <th>snapshot</th>\n",
       "      <th></th>\n",
       "    </tr>\n",
       "  </thead>\n",
       "  <tbody>\n",
       "    <tr>\n",
       "      <th>2024-01-01 00:00:00</th>\n",
       "      <td>100.0</td>\n",
       "    </tr>\n",
       "    <tr>\n",
       "      <th>2024-01-01 01:00:00</th>\n",
       "      <td>800.0</td>\n",
       "    </tr>\n",
       "  </tbody>\n",
       "</table>\n",
       "</div>"
      ],
      "text/plain": [
       "Bus                  France\n",
       "snapshot                   \n",
       "2024-01-01 00:00:00   100.0\n",
       "2024-01-01 01:00:00   800.0"
      ]
     },
     "execution_count": 20,
     "metadata": {},
     "output_type": "execute_result"
    }
   ],
   "source": [
    "n.buses_t.marginal_price"
   ]
  },
  {
   "cell_type": "code",
   "execution_count": null,
   "metadata": {},
   "outputs": [],
   "source": [
    "marginal_cost_wind"
   ]
  },
  {
   "cell_type": "code",
   "execution_count": null,
   "metadata": {},
   "outputs": [],
   "source": [
    "n = pypsa.Network()\n",
    "n.add(\"Bus\", \"SA\", y=-30.5, x=25, v_nom=400, carrier=\"AC\")\n",
    "n.add(\"Bus\", \"MZ\", y=-18.5, x=35.5, v_nom=400, carrier=\"AC\")\n",
    "n.add(\n",
    "    \"Generator\",\n",
    "    \"MZ hydro\",\n",
    "    bus=\"MZ\",\n",
    "    carrier=\"hydro\",\n",
    "    p_nom=1200,  # MW\n",
    "    marginal_cost=0,  # default\n",
    ")\n",
    "for tech, p_nom in power_plants[\"SA\"].items():\n",
    "    n.add(\n",
    "        \"Generator\",\n",
    "        f\"SA {tech}\",\n",
    "        bus=\"SA\",\n",
    "        carrier=tech,\n",
    "        efficiency=efficiency.get(tech, 1),\n",
    "        p_nom=p_nom,\n",
    "        marginal_cost=fuel_cost.get(tech, 0) / efficiency.get(tech, 1),\n",
    "    )\n",
    "n.add(\n",
    "    \"Load\",\n",
    "    \"SA electricity demand\",\n",
    "    bus=\"SA\",\n",
    "    p_set=loads[\"SA\"],\n",
    "    carrier=\"electricity\",\n",
    ")\n",
    "n.add(\n",
    "    \"Load\",\n",
    "    \"MZ electricity demand\",\n",
    "    bus=\"MZ\",\n",
    "    p_set=loads[\"MZ\"],\n",
    "    carrier=\"electricity\",\n",
    ")\n",
    "n.add(\n",
    "    \"Line\",\n",
    "    \"SA-MZ\",\n",
    "    bus0=\"SA\",\n",
    "    bus1=\"MZ\",\n",
    "    s_nom=500,\n",
    "    x=1,\n",
    "    r=1,\n",
    ")\n",
    "n.optimize(solver_name=\"highs\")"
   ]
  },
  {
   "cell_type": "code",
   "execution_count": null,
   "metadata": {},
   "outputs": [],
   "source": [
    "n.generators_t"
   ]
  },
  {
   "cell_type": "code",
   "execution_count": null,
   "metadata": {},
   "outputs": [],
   "source": [
    "network = pypsa.Network()\n",
    "network.set_snapshots(range(10))\n",
    "network.import_series_from_dataframe(\n",
    "        pd.DataFrame(np.random.rand(10, 4),\n",
    "            columns=network.generators.index,\n",
    "                        index=range(10)),\n",
    "                    \"Generator\",\n",
    "                    \"p_max_pu\")"
   ]
  }
 ],
 "metadata": {
  "kernelspec": {
   "display_name": "Python 3",
   "language": "python",
   "name": "python3"
  },
  "language_info": {
   "codemirror_mode": {
    "name": "ipython",
    "version": 3
   },
   "file_extension": ".py",
   "mimetype": "text/x-python",
   "name": "python",
   "nbconvert_exporter": "python",
   "pygments_lexer": "ipython3",
   "version": "3.11.7"
  }
 },
 "nbformat": 4,
 "nbformat_minor": 2
}
